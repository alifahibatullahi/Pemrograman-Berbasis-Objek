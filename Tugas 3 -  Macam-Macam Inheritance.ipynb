{
 "cells": [
  {
   "cell_type": "markdown",
   "metadata": {},
   "source": [
    "# Macam-macam Inheritance"
   ]
  },
  {
   "cell_type": "markdown",
   "metadata": {},
   "source": [
    "Inheritance (Pewarisan Properti dan method dari induk class)\n",
    "memiliki beberapa type, diantaranya :"
   ]
  },
  {
   "cell_type": "markdown",
   "metadata": {},
   "source": [
    "### 1. Default"
   ]
  },
  {
   "cell_type": "markdown",
   "metadata": {},
   "source": [
    "Isinya sama dengan class induknya\n",
    "\n",
    "Contoh :"
   ]
  },
  {
   "cell_type": "code",
   "execution_count": null,
   "metadata": {},
   "outputs": [],
   "source": [
    "class Mahasiswa(Orang):\n",
    "    pass"
   ]
  },
  {
   "cell_type": "markdown",
   "metadata": {},
   "source": [
    "### 2. Overriding "
   ]
  },
  {
   "cell_type": "markdown",
   "metadata": {},
   "source": [
    "Anak kelas yang merubah properti / Method pada kelas induk"
   ]
  },
  {
   "cell_type": "markdown",
   "metadata": {},
   "source": [
    "contoh :"
   ]
  },
  {
   "cell_type": "code",
   "execution_count": 7,
   "metadata": {},
   "outputs": [
    {
     "name": "stdout",
     "output_type": "stream",
     "text": [
      "Ini Override kamu\n"
     ]
    }
   ],
   "source": [
    "class Orang:\n",
    "    def __init__(self,nama=\"Saya\"):\n",
    "        self.nama=nama\n",
    "    def tugas(self):\n",
    "        print(\"Ini method Induk\")\n",
    "class Mahasiswa(Orang):\n",
    "    def __init__(self,nama=\"kamu\"): # Overide properti\n",
    "        super().__init__(nama)\n",
    "    def tugas(self): #Overide Method induk\n",
    "        print(\"Ini Override\", self.nama)\n",
    "\n",
    "a = Mahasiswa()\n",
    "a.tugas()"
   ]
  },
  {
   "cell_type": "markdown",
   "metadata": {},
   "source": [
    "Contoh Program 2:"
   ]
  },
  {
   "cell_type": "markdown",
   "metadata": {},
   "source": [
    "### 3. Super "
   ]
  },
  {
   "cell_type": "markdown",
   "metadata": {},
   "source": [
    "Digunakan Untuk Inisiasi properti class parrent pada class anak"
   ]
  },
  {
   "cell_type": "code",
   "execution_count": 8,
   "metadata": {},
   "outputs": [
    {
     "name": "stdout",
     "output_type": "stream",
     "text": [
      "Ikan\n",
      "fresh\n"
     ]
    }
   ],
   "source": [
    "class Fish:\n",
    "    def __init__(self,fish=\"Ikan\"):\n",
    "        self.fish=fish\n",
    "    def pnj(self):\n",
    "        print(self.fish)\n",
    "        print(self.water)\n",
    "class trout(Fish):\n",
    "    def __init__(self,water=\"fresh\"):\n",
    "        self.water=water\n",
    "        super().__init__()\n",
    "a=trout()\n",
    "a.pnj()"
   ]
  },
  {
   "cell_type": "markdown",
   "metadata": {},
   "source": [
    "### 4. Multiple"
   ]
  },
  {
   "cell_type": "markdown",
   "metadata": {},
   "source": [
    "Anak class yang memiliki 2 atau lebih Parent class"
   ]
  },
  {
   "cell_type": "code",
   "execution_count": null,
   "metadata": {},
   "outputs": [],
   "source": [
    "class Mahasiswa:\n",
    "    def __init__(self, nama, npm):\n",
    "        self.nama = nama\n",
    "        self.npm = npm\n",
    "\n",
    "    def Display(self):\n",
    "        print(self.nama, \"dengan npm:\", self.npm)\n",
    "\n",
    "\n",
    "class MataKuliah:\n",
    "    def __init__(self):\n",
    "        i = 1\n",
    "        self.kode = []\n",
    "        self.matkul = []\n",
    "        while i <= 2:\n",
    "            a = input(\"Masukkan Kode Matkul: \")\n",
    "            b = input(\"Masukkan Nama Matkul: \")\n",
    "            self.kode.append(a)\n",
    "            self.matkul.append(b)\n",
    "            i = i + 1\n",
    "\n",
    "    def Display(self):\n",
    "        print(\"Mata Kuliah yang diambil:\")\n",
    "        for i in range(len(self.kode)):\n",
    "            print(\"->\", self.matkul[i], \"(\", self.kode[i], \")\")\n",
    "\n",
    "\n",
    "class PengambilanMataKuliah(Mahasiswa, MataKuliah):\n",
    "    def __init__(self, nama, npm):\n",
    "        Mahasiswa.__init__(self, nama, npm)\n",
    "        MataKuliah.__init__(self)\n",
    "        self.nilai = []\n",
    "        for i in range(len(self.kode)):\n",
    "            a = int(input(\"Masukkan nilai matkul\"))\n",
    "            self.nilai.append(a)\n",
    "\n",
    "    def Display(self):\n",
    "        Mahasiswa.Display(self)\n",
    "        print(\"Mata Kuliah yang diambil:\")\n",
    "        for i in range(len(self.kode)):\n",
    "            print(\"->\", self.matkul[i], \"(\", self.kode[i], \") Nilai\", self.nilai[i])\n",
    "        jumlah = 0\n",
    "        for i in self.nilai:\n",
    "            jumlah = jumlah + i\n",
    "        print(\"IPS\", jumlah / len(self.nilai))\n",
    "\n",
    "\n",
    "a = PengambilanMataKuliah(\"Alifahi\", \"170411100019\")\n",
    "a.Display()"
   ]
  }
 ],
 "metadata": {
  "kernelspec": {
   "display_name": "Python 3",
   "language": "python",
   "name": "python3"
  },
  "language_info": {
   "codemirror_mode": {
    "name": "ipython",
    "version": 3
   },
   "file_extension": ".py",
   "mimetype": "text/x-python",
   "name": "python",
   "nbconvert_exporter": "python",
   "pygments_lexer": "ipython3",
   "version": "3.6.5"
  }
 },
 "nbformat": 4,
 "nbformat_minor": 2
}
