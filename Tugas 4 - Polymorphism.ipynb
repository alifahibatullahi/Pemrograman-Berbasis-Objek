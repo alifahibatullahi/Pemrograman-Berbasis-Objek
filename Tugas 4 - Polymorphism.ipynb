{
 "cells": [
  {
   "cell_type": "markdown",
   "metadata": {},
   "source": [
    "# Polymorphism"
   ]
  },
  {
   "cell_type": "markdown",
   "metadata": {},
   "source": [
    "Polymorphism berasal dari kata Poly(Banyak), dan Morphism(Bentuk). Jadi Polimorphism bermakna 'Sesuatu yang memiliki banyak isi yang berbeda'(Multi-Fungsi)."
   ]
  },
  {
   "cell_type": "markdown",
   "metadata": {},
   "source": [
    "## a. PolyMorphism pada Function"
   ]
  },
  {
   "cell_type": "markdown",
   "metadata": {},
   "source": [
    "Pada metode ini dibuat suatu fungsi yang berfungsi memanggil method pada class."
   ]
  },
  {
   "cell_type": "code",
   "execution_count": 8,
   "metadata": {},
   "outputs": [
    {
     "name": "stdout",
     "output_type": "stream",
     "text": [
      "Nama Makanan: soto\n",
      "Harga Makanan: Rp.100.000\n",
      "Diskon Makanan: 50%\n",
      "Expired Date: 8 Oktober 2018\n"
     ]
    }
   ],
   "source": [
    "class Barang:\n",
    "    def __init__(self, Nama, Harga, Diskon):\n",
    "        self.Nama = Nama\n",
    "        self.Harga = Harga\n",
    "        self.Diskon = Diskon\n",
    "\n",
    "    def TampilNama(self):\n",
    "        raise NotImplementedError(\"Sublass must implemented\")\n",
    "\n",
    "    def TampilHarga(self):\n",
    "        raise NotImplementedError(\"Sublass must implemented\")\n",
    "\n",
    "    def TampilDiskon(self):\n",
    "        raise NotImplementedError(\"Sublass must implemented\")\n",
    "\n",
    "\n",
    "class Makanan(Barang):\n",
    "    def __init__(self, Nama, Harga, Diskon, ExDate):\n",
    "        super().__init__(Nama, Harga, Diskon)\n",
    "        self.ExDate = ExDate\n",
    "\n",
    "    def TampilNama(self):\n",
    "        print(\"Nama Makanan:\", self.Nama)\n",
    "\n",
    "    def TampilHarga(self):\n",
    "        print(\"Harga Makanan:\", self.Harga)\n",
    "\n",
    "    def TampilDiskon(self):\n",
    "        print(\"Diskon Makanan:\", self.Diskon)\n",
    "\n",
    "    def TampilKhusus(self):\n",
    "        print(\"Expired Date:\", self.ExDate)\n",
    "\n",
    "\n",
    "\n",
    "def in_market(Benda):\n",
    "    Benda.TampilNama()\n",
    "    Benda.TampilHarga()\n",
    "    Benda.TampilDiskon()\n",
    "    Benda.TampilKhusus()\n",
    "\n",
    "Soto = Makanan(\"soto\", \"Rp.100.000\", \"50%\", \"8 Oktober 2018\")\n",
    "in_market(Soto)"
   ]
  },
  {
   "cell_type": "markdown",
   "metadata": {},
   "source": [
    "## b. Polymorphism pada class"
   ]
  },
  {
   "cell_type": "markdown",
   "metadata": {},
   "source": [
    "Pada metode ini dibuat looping yang berisi objek sehingga method dipanggil sesuai objek yang ada."
   ]
  },
  {
   "cell_type": "code",
   "execution_count": 10,
   "metadata": {},
   "outputs": [
    {
     "name": "stdout",
     "output_type": "stream",
     "text": [
      "Nama Makanan: soto\n",
      "Harga Makanan: Rp.100.000\n",
      "Diskon Makanan: 50%\n",
      "Expired Date: 8 Oktober 2018\n",
      "Nama Pakaian: Baju\n",
      "Harga Pakaian: Rp.100.000\n",
      "Diskon Pakaian: 50%\n",
      "Ukuran Pakaian: Large\n"
     ]
    }
   ],
   "source": [
    "class Barang:\n",
    "    def __init__(self, Nama, Harga, Diskon):\n",
    "        self.Nama = Nama\n",
    "        self.Harga = Harga\n",
    "        self.Diskon = Diskon\n",
    "\n",
    "    def TampilNama(self):\n",
    "        raise NotImplementedError(\"Sublass must implemented\")\n",
    "\n",
    "    def TampilHarga(self):\n",
    "        raise NotImplementedError(\"Sublass must implemented\")\n",
    "\n",
    "    def TampilDiskon(self):\n",
    "        raise NotImplementedError(\"Sublass must implemented\")\n",
    "\n",
    "\n",
    "class Makanan(Barang):\n",
    "    def __init__(self, Nama, Harga, Diskon, ExDate):\n",
    "        super().__init__(Nama, Harga, Diskon)\n",
    "        self.ExDate = ExDate\n",
    "\n",
    "    def TampilNama(self):\n",
    "        print(\"Nama Makanan:\", self.Nama)\n",
    "\n",
    "    def TampilHarga(self):\n",
    "        print(\"Harga Makanan:\", self.Harga)\n",
    "\n",
    "    def TampilDiskon(self):\n",
    "        print(\"Diskon Makanan:\", self.Diskon)\n",
    "\n",
    "    def TampilKhusus(self):\n",
    "        print(\"Expired Date:\", self.ExDate)\n",
    "\n",
    "class Pakaian(Barang):\n",
    "    def __init__(self, Nama, Harga, Diskon, Ukuran):\n",
    "        super().__init__(Nama, Harga, Diskon)\n",
    "        self.Ukuran = Ukuran\n",
    "\n",
    "    def TampilNama(self):\n",
    "        print(\"Nama Pakaian:\", self.Nama)\n",
    "\n",
    "    def TampilHarga(self):\n",
    "        print(\"Harga Pakaian:\", self.Harga)\n",
    "\n",
    "    def TampilDiskon(self):\n",
    "        print(\"Diskon Pakaian:\", self.Diskon)\n",
    "\n",
    "    def TampilKhusus(self):\n",
    "        print(\"Ukuran Pakaian:\", self.Ukuran)\n",
    "\n",
    "\n",
    "\n",
    "Soto = Makanan(\"soto\", \"Rp.100.000\", \"50%\", \"8 Oktober 2018\")\n",
    "Baju = Pakaian(\"Baju\", \"Rp.100.000\", \"50%\", \"Large\")\n",
    "\n",
    "\n",
    "for Benda in (Soto, Baju):\n",
    "    Benda.TampilNama()\n",
    "    Benda.TampilHarga()\n",
    "    Benda.TampilDiskon()\n",
    "    Benda.TampilKhusus()"
   ]
  }
 ],
 "metadata": {
  "kernelspec": {
   "display_name": "Python 3",
   "language": "python",
   "name": "python3"
  },
  "language_info": {
   "codemirror_mode": {
    "name": "ipython",
    "version": 3
   },
   "file_extension": ".py",
   "mimetype": "text/x-python",
   "name": "python",
   "nbconvert_exporter": "python",
   "pygments_lexer": "ipython3",
   "version": "3.6.5"
  }
 },
 "nbformat": 4,
 "nbformat_minor": 2
}
