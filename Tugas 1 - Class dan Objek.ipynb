{
 "cells": [
  {
   "cell_type": "markdown",
   "metadata": {},
   "source": [
    "# Class & Object"
   ]
  },
  {
   "cell_type": "markdown",
   "metadata": {},
   "source": [
    "## Objek"
   ]
  },
  {
   "cell_type": "markdown",
   "metadata": {},
   "source": [
    "Objek adalah sesuatu yang diciptakan dari class, ia memiliki atribut(apa yang dipunya objek ini) dan method(apa yang bisa ia lakukan)."
   ]
  },
  {
   "cell_type": "markdown",
   "metadata": {},
   "source": [
    "## Class"
   ]
  },
  {
   "cell_type": "markdown",
   "metadata": {},
   "source": [
    "Sedangan class adalah hanyalah sebagai Wadah Untuk menaruh Objek."
   ]
  },
  {
   "cell_type": "markdown",
   "metadata": {},
   "source": [
    "### Perbedaan Class dan Objek"
   ]
  },
  {
   "cell_type": "markdown",
   "metadata": {},
   "source": [
    "Class Tidak bisa beroperasi tanpa adanya objek, dan objek merupakan intasnsi class pada method-method tertentu. Jadi pada setiap class diharuskan ada Sebuah Objek."
   ]
  },
  {
   "cell_type": "markdown",
   "metadata": {},
   "source": [
    "Contoh Class :"
   ]
  },
  {
   "cell_type": "code",
   "execution_count": 7,
   "metadata": {},
   "outputs": [
    {
     "name": "stdout",
     "output_type": "stream",
     "text": [
      "Luas Permukaan = 96\n",
      "Volumenya = 64\n"
     ]
    }
   ],
   "source": [
    "class Kubus:               \n",
    "    def __init__(self,s):\n",
    "        self.sisi=s\n",
    "    def tampilkan(self):\n",
    "        print(\"sisinya = \",self.sisi)\n",
    "    def Luas(self):\n",
    "        print(\"keliling =\",self.sisi**2)\n",
    "    def LuasP(self):\n",
    "        print(\"Luas Permukaan =\",6*self.sisi**2)\n",
    "    def Volume(self):\n",
    "        print(\"Volumenya =\", self.sisi**3)\n",
    "k2=Kubus(4)\n",
    "k2.tampilkan()\n",
    "k2.Luas()\n",
    "k2.LuasP()\n",
    "k2.Volume()"
   ]
  },
  {
   "cell_type": "markdown",
   "metadata": {},
   "source": [
    "Contoh Class Pada Mahasiswa :"
   ]
  },
  {
   "cell_type": "code",
   "execution_count": null,
   "metadata": {},
   "outputs": [],
   "source": [
    "class Mahasiswa:\n",
    "    def __init__(self, npm, nama):\n",
    "        self.npm = npm\n",
    "        self.nama = nama\n",
    "    def semester(self):\n",
    "        tahun = input(\"Tahun berapa sekarang:\")\n",
    "        bulan = int(input(\"Bulan berapa sekarang:\"))\n",
    "        a = int(self.npm[:2])\n",
    "        b = int(tahun[-2:])\n",
    "        if b - a >=0:\n",
    "            if bulan > 6:\n",
    "                print(self.nama, \"sekarang berada di semester\", b-a+2)\n",
    "            else:\n",
    "                print(self.nama, \"sekarang berada di semester\", b-a+1)\n",
    "        else:\n",
    "            print(\"Pada tahun\", tahun, self.nama, \"belum kuliah\")\n",
    "        \n",
    "\n",
    "alifahi = Mahasiswa(\"170411100019\", \"Alifahi\")\n",
    "marwa = Mahasiswa(\"1604111000\", \"Marwa\")\n",
    "alifahi.semester()"
   ]
  },
  {
   "cell_type": "markdown",
   "metadata": {},
   "source": [
    "### Tugas"
   ]
  },
  {
   "cell_type": "markdown",
   "metadata": {},
   "source": [
    "2 class saling berhubungan\n",
    "\n",
    "nasabah:\n",
    "Properti = Nama, Alamat, dan nomer rekening\n",
    "Rekening:\n",
    "Properti = no rekening, saldo\n",
    "\n",
    "Method: Tambah rekening, Ambil Rekening\n",
    "\n",
    "Tugas class:\n",
    "simulasikan dia melakukan transaksi cetak rekening Mengambil, Menabung, Cetak Rekening saldonya\n",
    "yg ditampilkan Properti + Saldo"
   ]
  }
 ],
 "metadata": {
  "kernelspec": {
   "display_name": "Python 3",
   "language": "python",
   "name": "python3"
  },
  "language_info": {
   "codemirror_mode": {
    "name": "ipython",
    "version": 3
   },
   "file_extension": ".py",
   "mimetype": "text/x-python",
   "name": "python",
   "nbconvert_exporter": "python",
   "pygments_lexer": "ipython3",
   "version": "3.6.5"
  }
 },
 "nbformat": 4,
 "nbformat_minor": 2
}
