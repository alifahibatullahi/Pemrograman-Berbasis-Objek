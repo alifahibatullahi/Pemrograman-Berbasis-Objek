{
 "cells": [
  {
   "cell_type": "markdown",
   "metadata": {},
   "source": [
    "# Overloading Method & Operator Overloading"
   ]
  },
  {
   "cell_type": "markdown",
   "metadata": {},
   "source": [
    "## 1. Overloading Method"
   ]
  },
  {
   "cell_type": "markdown",
   "metadata": {},
   "source": [
    "Overloading method ialah method yang mengeksekusi berdasarkan jumlah parameter yang diinputkan, Beda jumlah parameter maka berbeda pula method yg ditampilkan"
   ]
  },
  {
   "cell_type": "code",
   "execution_count": 4,
   "metadata": {},
   "outputs": [
    {
     "name": "stdout",
     "output_type": "stream",
     "text": [
      "Nama tidak ada\n",
      "Nama =  Alifahi\n"
     ]
    }
   ],
   "source": [
    "class Mahasiswa:\n",
    "    def tampil(self,nama=None):\n",
    "        if nama is not None:\n",
    "            print('Nama = ',nama)\n",
    "        else:\n",
    "            print('Nama tidak ada')\n",
    "a=Mahasiswa()\n",
    "a.tampil()\n",
    "a.tampil('Alifahi')"
   ]
  },
  {
   "cell_type": "markdown",
   "metadata": {},
   "source": [
    "## Operator Overloading"
   ]
  },
  {
   "cell_type": "code",
   "execution_count": 8,
   "metadata": {},
   "outputs": [
    {
     "name": "stdout",
     "output_type": "stream",
     "text": [
      ">>> Luas Persegi\n",
      "Jarak X = 6\n",
      "Jarak Y = 7\n",
      "Luas = 42\n"
     ]
    }
   ],
   "source": [
    "#Menghitung Luas Persegi Pada Diagram Cartesius\n",
    "class point:\n",
    "    def __init__(self,x=0,y=0):\n",
    "        self.x=x\n",
    "        self.y=y\n",
    "    def __str__(self):\n",
    "        return '>>> Luas Persegi\\n'+'Jarak X = '+str(self.x)+'\\nJarak Y = '+str(self.y)+'\\nLuas = '+str(self.x*self.y)\n",
    "    def __sub__(self,other):\n",
    "        if self.x< other.x:\n",
    "             x=other.x-self.x\n",
    "        elif self.x > other.x:\n",
    "             x=self.x-other.x\n",
    "        if self.y < other.y:\n",
    "            y=other.y-self.y\n",
    "        elif self.y>other.y:\n",
    "            y=self.y-other.y\n",
    "        return point(x,y)\n",
    "p1=point(8,2)\n",
    "p2=point(2,9)\n",
    "print(p1-p2)"
   ]
  }
 ],
 "metadata": {
  "kernelspec": {
   "display_name": "Python 3",
   "language": "python",
   "name": "python3"
  },
  "language_info": {
   "codemirror_mode": {
    "name": "ipython",
    "version": 3
   },
   "file_extension": ".py",
   "mimetype": "text/x-python",
   "name": "python",
   "nbconvert_exporter": "python",
   "pygments_lexer": "ipython3",
   "version": "3.6.5"
  }
 },
 "nbformat": 4,
 "nbformat_minor": 2
}
