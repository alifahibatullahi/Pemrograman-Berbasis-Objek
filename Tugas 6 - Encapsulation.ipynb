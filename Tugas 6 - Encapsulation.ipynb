{
 "cells": [
  {
   "cell_type": "markdown",
   "metadata": {},
   "source": [
    "# Encapsulation"
   ]
  },
  {
   "cell_type": "markdown",
   "metadata": {},
   "source": [
    "Encapsulation adalah mekanisme untuk menyembunyikan / Memproteksi suatu proses agar tidak Terjadi penyalahgunaan Di luar sistemnya."
   ]
  },
  {
   "cell_type": "markdown",
   "metadata": {},
   "source": [
    "## 1. Private Variables"
   ]
  },
  {
   "cell_type": "code",
   "execution_count": 2,
   "metadata": {},
   "outputs": [
    {
     "name": "stdout",
     "output_type": "stream",
     "text": [
      "Robot diam\n",
      "Robot Bergerak dengan kecepatan 100\n"
     ]
    }
   ],
   "source": [
    "class robot:\n",
    "    __kecepatan = 0\n",
    "    __gerak = \"diam\"\n",
    "    def gerak(self):\n",
    "        if self.__kecepatan == 0:\n",
    "            print(\"Robot\", self.__gerak)\n",
    "        else:\n",
    "            print(\"Robot\", self.__gerak, \"dengan kecepatan\", self.__kecepatan)\n",
    "    \n",
    "    def setkecepatan(self,speed):\n",
    "        self.__kecepatan = speed\n",
    "        if speed != 0:\n",
    "            self.__gerak = \"Bergerak\"\n",
    "        else:\n",
    "            self.__gerak = \"diam\"\n",
    "robocop = robot()\n",
    "robocop.gerak()\n",
    "robocop.setkecepatan(100)\n",
    "robocop.gerak()"
   ]
  },
  {
   "cell_type": "markdown",
   "metadata": {},
   "source": [
    "##  2. Private Methods"
   ]
  },
  {
   "cell_type": "code",
   "execution_count": 4,
   "metadata": {},
   "outputs": [
    {
     "name": "stdout",
     "output_type": "stream",
     "text": [
      "Robot diam\n",
      "Robot bergerak\n",
      "Robot diam\n"
     ]
    }
   ],
   "source": [
    "class robot:\n",
    "    def __init__(self):\n",
    "        self.__diam()\n",
    "    def gerak(self):\n",
    "        print(\"Robot bergerak\")\n",
    "    def __diam(self):\n",
    "        print(\"Robot diam\")\n",
    "robocop = robot()\n",
    "robocop.gerak()\n",
    "robocop._robot__diam()"
   ]
  }
 ],
 "metadata": {
  "kernelspec": {
   "display_name": "Python 3",
   "language": "python",
   "name": "python3"
  },
  "language_info": {
   "codemirror_mode": {
    "name": "ipython",
    "version": 3
   },
   "file_extension": ".py",
   "mimetype": "text/x-python",
   "name": "python",
   "nbconvert_exporter": "python",
   "pygments_lexer": "ipython3",
   "version": "3.6.5"
  }
 },
 "nbformat": 4,
 "nbformat_minor": 2
}
