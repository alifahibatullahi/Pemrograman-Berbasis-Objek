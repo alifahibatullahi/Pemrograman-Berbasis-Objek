{
 "cells": [
  {
   "cell_type": "markdown",
   "metadata": {},
   "source": [
    "# Inheritance Pada Python "
   ]
  },
  {
   "cell_type": "markdown",
   "metadata": {},
   "source": [
    "Inheritance adalah pewarisan class kepada class lain, sehingga class yang menerima warisan bisa mengakses properti & Method pada class yang mewariskan. \n",
    "\n",
    "Namun, induk classnya tak bisa mengakses properti anaknya(class yang menerimawarisan)"
   ]
  },
  {
   "cell_type": "code",
   "execution_count": null,
   "metadata": {},
   "outputs": [
    {
     "name": "stdout",
     "output_type": "stream",
     "text": [
      "Nama : Robert\n",
      "NIP : 17041110019\n",
      "NIDN : 170411100019\n"
     ]
    }
   ],
   "source": [
    "class Orang:\n",
    "    def __init__(self, nama):\n",
    "        self.nama = nama\n",
    "\n",
    "class Mahasiswa(Orang):\n",
    "    def __init__(self, nama, npm):\n",
    "        Orang.__init__(self, nama)\n",
    "        self.npm = npm\n",
    "    def printData(self):\n",
    "        tahun = input(\"Tahun berapa sekarang:\")\n",
    "        bulan = int(input(\"Bulan berapa sekarang:\"))\n",
    "        a = int(self.npm[:2])\n",
    "        b = int(tahun[-2:])\n",
    "        if b - a >=0:\n",
    "            if bulan > 6:\n",
    "                print(self.nama,\"(\",self.npm,\")\",\"sekarang berada di semester\", b-a+2)\n",
    "            else:\n",
    "                print(self.nama,\"(\", self.npm, \")\",\"sekarang berada di semester\", b-a+1)\n",
    "\n",
    "class Pegawai(Orang):\n",
    "    def __init__(self, nama, nip):\n",
    "        Orang.__init__(self, nama)\n",
    "        self.nip = nip\n",
    "\n",
    "class Dosen(Pegawai):\n",
    "    def __init__(self, nama, nip, nidn):\n",
    "        Pegawai.__init__(self, nama, nip)\n",
    "        self.nidn = nidn\n",
    "    def printData(self):\n",
    "        print(\"Nama :\", self.nama)\n",
    "        print(\"NIP :\", self.nip)\n",
    "        print(\"NIDN :\", self.nidn)\n",
    "\n",
    "class Karyawan(Pegawai):\n",
    "    def __init__(self, nama, nip):\n",
    "        Pegawai.__init__(self, nama, nip)\n",
    "    def printData(self):\n",
    "        print(\"Nama :\", self.nama)\n",
    "        print(\"NIP :\", self.nip)\n",
    "\n",
    "D1 = Dosen(\"Robert\", \"17041110019\", \"170411100019\")\n",
    "D1.printData()\n",
    "\n",
    "M1 = Mahasiswa(\"Alifahi\", \"170411100019\")\n",
    "M1.printData()\n"
   ]
  },
  {
   "cell_type": "markdown",
   "metadata": {},
   "source": [
    "### Tugas"
   ]
  },
  {
   "cell_type": "markdown",
   "metadata": {},
   "source": [
    "Kelas Orang\n",
    "        properti Nama\n",
    "seb Orang:Mahasiswa & Pegawai\n",
    "    properti mhs : Npm\n",
    "    properti pegawai : Nip\n",
    "sub pegawai : Dosen & Karyawan\n",
    "    properti dosen :nidn\n",
    "\n",
    "Tugasnya :\n",
    "print dosen > Kelas Dosen >> Nama, Nip,Nidn\n",
    "print karyawan > kelas Karyawan >> Nama, Nip\n",
    "\n",
    "<Link Panduan>\n",
    "Note* : Flowalgorith\n",
    "        Online Python Tutor"
   ]
  }
 ],
 "metadata": {
  "kernelspec": {
   "display_name": "Python 3",
   "language": "python",
   "name": "python3"
  },
  "language_info": {
   "codemirror_mode": {
    "name": "ipython",
    "version": 3
   },
   "file_extension": ".py",
   "mimetype": "text/x-python",
   "name": "python",
   "nbconvert_exporter": "python",
   "pygments_lexer": "ipython3",
   "version": "3.6.5"
  }
 },
 "nbformat": 4,
 "nbformat_minor": 2
}
